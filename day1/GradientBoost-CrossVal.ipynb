{
 "cells": [
  {
   "cell_type": "code",
   "execution_count": 10,
   "metadata": {},
   "outputs": [],
   "source": [
    "import numpy as np\n",
    "import sklearn\n",
    "from sklearn.model_selection import train_test_split\n",
    "\n",
    "from sklearn.ensemble import GradientBoostingClassifier\n",
    "from sklearn import grid_search\n",
    "from sklearn.model_selection import cross_val_score, GridSearchCV"
   ]
  },
  {
   "cell_type": "code",
   "execution_count": 2,
   "metadata": {
    "collapsed": true
   },
   "outputs": [],
   "source": [
    "data = []\n",
    "with open('../training_data.txt') as inputfile:\n",
    "    for line in inputfile:\n",
    "        data.append(line.strip().split(' '))\n",
    "\n",
    "words = data[0]\n",
    "X_train = data[1:]\n",
    "y_train = []\n",
    "\n",
    "for i in range(len(X_train)):\n",
    "    y_train.append(X_train[i][0])\n",
    "    X_train[i] = X_train[i][1:]"
   ]
  },
  {
   "cell_type": "code",
   "execution_count": 3,
   "metadata": {
    "collapsed": true
   },
   "outputs": [],
   "source": [
    "data = []\n",
    "with open('../test_data.txt') as inputfile:\n",
    "    for line in inputfile:\n",
    "        data.append(line.strip().split(' '))\n",
    "\n",
    "words = data[0]\n",
    "X_test = data[1:]"
   ]
  },
  {
   "cell_type": "code",
   "execution_count": 11,
   "metadata": {},
   "outputs": [],
   "source": [
    "data = []\n",
    "with open('../training_data.txt') as inputfile:\n",
    "    for line in inputfile:\n",
    "        data.append(line.strip().split(' '))\n",
    "        \n",
    "words = data[0]\n",
    "X_train = data[1:]\n",
    "y_train = []\n",
    "\n",
    "for i in range(len(X_train)):\n",
    "    y_train.append(X_train[i][0])\n",
    "    X_train[i] = X_train[i][1:]\n",
    "\n",
    "X_train = np.array(X_train).astype(np.int)\n",
    "y_train = np.array(y_train).astype(np.int)\n",
    "\n",
    "# use cross validation to predict how good it is on the actual training set \n",
    "X_train, X_testtraining, y_train, y_testtraining = train_test_split(X_train, y_train, test_size = 0.3, random_state=1)\n",
    "\n",
    "test = []\n",
    "with open('../test_data.txt') as inputfile:\n",
    "    for line in inputfile:\n",
    "        test.append(line.strip().split(' '))\n",
    "\n",
    "words_train = test[0]\n",
    "X_test = test[1:]\n",
    "X_test = np.array(X_test).astype(np.int)"
   ]
  },
  {
   "cell_type": "code",
   "execution_count": 4,
   "metadata": {
    "collapsed": true
   },
   "outputs": [],
   "source": [
    "X_train = np.array(X_train)\n",
    "y_train = np.array(y_train)\n",
    "X_test = np.array(X_test)"
   ]
  },
  {
   "cell_type": "code",
   "execution_count": 15,
   "metadata": {},
   "outputs": [
    {
     "name": "stdout",
     "output_type": "stream",
     "text": [
      "0.834833333333\n"
     ]
    }
   ],
   "source": [
    "clf = GradientBoostingClassifier(n_estimators=600, learning_rate=1, max_depth=8, random_state=0).fit(X_train, y_train)\n",
    "print(clf.score(X_testtraining, y_testtraining))"
   ]
  },
  {
   "cell_type": "code",
   "execution_count": 6,
   "metadata": {
    "collapsed": true
   },
   "outputs": [],
   "source": [
    "predictions = clf.predict(X_test)"
   ]
  },
  {
   "cell_type": "code",
   "execution_count": 7,
   "metadata": {
    "collapsed": true
   },
   "outputs": [],
   "source": [
    "with open(\"gradientboost1.txt\", \"w\") as f:\n",
    "    f.write(\"Id,Prediction\\n\")\n",
    "    for i in range(len(predictions)):\n",
    "        f.write(str(i+1) + ',' + str(predictions[i]) + '\\n')"
   ]
  },
  {
   "cell_type": "code",
   "execution_count": null,
   "metadata": {
    "collapsed": true
   },
   "outputs": [],
   "source": []
  }
 ],
 "metadata": {
  "kernelspec": {
   "display_name": "Python 3",
   "language": "python",
   "name": "python3"
  },
  "language_info": {
   "codemirror_mode": {
    "name": "ipython",
    "version": 3
   },
   "file_extension": ".py",
   "mimetype": "text/x-python",
   "name": "python",
   "nbconvert_exporter": "python",
   "pygments_lexer": "ipython3",
   "version": "3.6.3"
  }
 },
 "nbformat": 4,
 "nbformat_minor": 2
}
